{
 "cells": [
  {
   "cell_type": "markdown",
   "metadata": {},
   "source": [
    "# Stock trades data in BigQuery\n",
    "\n",
    "In this notebook we'll\n",
    "- inspect stock trades data that we have in BigQuery;\n",
    "- craft the query to get open, close, minimum and maximum values for a given stock symbol and defined time interval and window size;\n",
    "- plot the candlestick chart"
   ]
  },
  {
   "cell_type": "markdown",
   "metadata": {},
   "source": [
    "### Import modules"
   ]
  },
  {
   "cell_type": "code",
   "execution_count": null,
   "metadata": {},
   "outputs": [],
   "source": [
    "from google.cloud import bigquery\n",
    "import plotly.graph_objects as go\n",
    "import datetime\n",
    "import time\n",
    "import ipywidgets as widgets\n",
    "from IPython.core.display import display"
   ]
  },
  {
   "cell_type": "markdown",
   "metadata": {},
   "source": [
    "### Setting constants:\n",
    "- BQ_PROJECT_ID - Google Cloud project ID where dataset resides\n",
    "- DEFAULT_SYMBOL - default stock symbol on which we'll be filtering trades.\n",
    "- TIME_WINDOW - window for which we'll be calculating candles."
   ]
  },
  {
   "cell_type": "code",
   "execution_count": null,
   "metadata": {},
   "outputs": [],
   "source": [
    "# Put you project ID here\n",
    "BQ_PROJECT_ID = '<PROJECT ID>'\n",
    "DEFAULT_SYMBOL = 'GE'\n",
    "TIME_WINDOW = 300 # in seconds"
   ]
  },
  {
   "cell_type": "markdown",
   "metadata": {},
   "source": [
    "### Inspect data in BigQuery"
   ]
  },
  {
   "cell_type": "code",
   "execution_count": null,
   "metadata": {},
   "outputs": [],
   "source": [
    "client = bigquery.Client(project = BQ_PROJECT_ID)\n",
    "df = client.query('SELECT * FROM `polygon.trades` LIMIT 5').to_dataframe()\n",
    "df"
   ]
  },
  {
   "cell_type": "markdown",
   "metadata": {},
   "source": [
    "### Inspect what symbols are in dataset"
   ]
  },
  {
   "cell_type": "code",
   "execution_count": null,
   "metadata": {},
   "outputs": [],
   "source": [
    "symbols = client.query('SELECT DISTINCT symbol FROM `polygon.trades` ORDER BY symbol').to_dataframe()\n",
    "\n",
    "# output all symbols\n",
    "print(symbols)\n",
    "\n",
    "# output filtered symbols. e.g. characters starting with ZX\n",
    "print(symbols[symbols.symbol.str.match('GE.*')])"
   ]
  },
  {
   "cell_type": "markdown",
   "metadata": {},
   "source": [
    "### Select stock symbol you want to analyze"
   ]
  },
  {
   "cell_type": "code",
   "execution_count": null,
   "metadata": {},
   "outputs": [],
   "source": [
    "symbol = DEFAULT_SYMBOL"
   ]
  },
  {
   "cell_type": "markdown",
   "metadata": {},
   "source": [
    "### Inspect what records do we have for a given symbol"
   ]
  },
  {
   "cell_type": "code",
   "execution_count": null,
   "metadata": {},
   "outputs": [],
   "source": [
    "info = client.query('''\n",
    "  SELECT \n",
    "    MIN(UNIX_SECONDS(ts)) as min_ts, MAX(UNIX_SECONDS(ts)) as max_ts, COUNT(*) as total\n",
    "  FROM `polygon.trades` WHERE symbol=\"{}\"'''\n",
    "  .format(symbol)).to_dataframe()\n",
    "\n",
    "min_date = datetime.datetime.fromtimestamp(info['min_ts'][0])\n",
    "max_date = datetime.datetime.fromtimestamp(info['max_ts'][0])\n",
    "\n",
    "print(\"Info for %s:\\n\\tMin date: %s \\n\\tMax date: %s \\n\\tRows: %d\\n\" % (symbol, min_date, max_date, info['total']))"
   ]
  },
  {
   "cell_type": "markdown",
   "metadata": {},
   "source": [
    "### Define date range"
   ]
  },
  {
   "cell_type": "code",
   "execution_count": null,
   "metadata": {},
   "outputs": [],
   "source": [
    "start_date_widget = widgets.DatePicker(\n",
    "    description='Start Date',\n",
    "    value=min_date,\n",
    "    disabled=False\n",
    ")\n",
    "finish_date_widget = widgets.DatePicker(\n",
    "    description='Finish Date',\n",
    "    value=max_date,\n",
    "    disabled=False\n",
    ")\n",
    "display(start_date_widget, finish_date_widget)"
   ]
  },
  {
   "cell_type": "markdown",
   "metadata": {},
   "source": [
    "### Query min, max,open and close prices over time windows"
   ]
  },
  {
   "cell_type": "code",
   "execution_count": null,
   "metadata": {},
   "outputs": [],
   "source": [
    "start_date = datetime.datetime.combine(start_date_widget.value, datetime.time(0,0,0)) if start_date_widget.value else datetime.datetime.combine(min_date, datetime.time(0,0,0))\n",
    "finish_date = datetime.datetime.combine(finish_date_widget.value, datetime.time(23,59,59)) if start_date_widget.value else datetime.datetime.combine(max_date, datetime.time(23,59,59))\n",
    "\n",
    "ts_start_date = int(time.mktime(start_date.timetuple()))\n",
    "ts_finish_date = int(time.mktime(finish_date.timetuple()))\n",
    "\n",
    "df = client.query('''\n",
    "  SELECT\n",
    "    UNIX_SECONDS(min_ts) AS min_ts, UNIX_SECONDS(max_ts) AS max_ts,\n",
    "    min_price, max_price, ti1.price AS open_price, ti2.price AS close_price\n",
    "  FROM (\n",
    "    SELECT\n",
    "      MIN(ts) AS min_ts, MAX(ts) AS max_ts, \n",
    "      MIN(price) AS min_price, MAX(price) AS max_price, \n",
    "      FLOOR((UNIX_SECONDS(ts)/{1}))\n",
    "    FROM polygon.trades\n",
    "    WHERE symbol=\"{0}\" AND UNIX_SECONDS(ts)>={2} AND UNIX_SECONDS(ts)<={3}\n",
    "    GROUP BY FLOOR((UNIX_SECONDS(ts)/{1}))\n",
    "  ) q\n",
    "  JOIN polygon.trades ti1 ON ti1.ts=min_ts AND ti1.symbol=\"{0}\"\n",
    "  JOIN polygon.trades ti2 ON ti2.ts=max_ts AND ti2.symbol=\"{0}\"\n",
    "  ORDER BY min_ts\n",
    "'''.format(symbol, TIME_WINDOW, ts_start_date, ts_finish_date)).to_dataframe()\n",
    "\n",
    "df['date'] = df.apply(lambda row: datetime.datetime.fromtimestamp(row.min_ts), axis = 1)\n",
    "df.head()"
   ]
  },
  {
   "cell_type": "markdown",
   "metadata": {},
   "source": [
    "### Plot candlestick chart"
   ]
  },
  {
   "cell_type": "code",
   "execution_count": null,
   "metadata": {},
   "outputs": [],
   "source": [
    "# STEP 6\n",
    "\n",
    "fig = go.Figure(data=[go.Candlestick(x=df['date'],\n",
    "                open=df['open_price'], high=df['max_price'],\n",
    "                low=df['min_price'], close=df['close_price'])\n",
    "                     ])\n",
    "fig.update_layout(xaxis_rangeslider_visible=False)\n",
    "fig.show()"
   ]
  },
  {
   "cell_type": "code",
   "execution_count": null,
   "metadata": {},
   "outputs": [],
   "source": []
  }
 ],
 "metadata": {
  "kernelspec": {
   "display_name": "Python 3",
   "language": "python",
   "name": "python3"
  },
  "language_info": {
   "codemirror_mode": {
    "name": "ipython",
    "version": 3
   },
   "file_extension": ".py",
   "mimetype": "text/x-python",
   "name": "python",
   "nbconvert_exporter": "python",
   "pygments_lexer": "ipython3",
   "version": "3.7.6"
  }
 },
 "nbformat": 4,
 "nbformat_minor": 4
}
