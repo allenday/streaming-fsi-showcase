{
 "cells": [
  {
   "cell_type": "markdown",
   "metadata": {},
   "source": [
    "### STEPS:\n",
    "1. **Connecting needed modules**\n",
    "2. **Setting constant:**\\\n",
    "    DEFAULT_SYMBOL - this is a default object of transactions.\\\n",
    "    TIME_WINDOW - the length of the time interval into which the entire period will be divided.\n",
    "3. **Choosing an object of a transactions**\\\n",
    "    3.1 Now there's more than 600 symbols in DB. Therefore, you can filter by the needed letters.\\\n",
    "    3.2 Here the desired symbol can be changed.\n",
    "4. **Choosing start and finish dates for selecting transactions**\\\n",
    "    4.1 Start and finish dates are searched in DB for the selected object of transactions (e.g. for ETH).\\\n",
    "    4.2 Here you can change these values of dates by picker elements.\n",
    "5. **Getting data of transactions from BQ**\\\n",
    "    5.1 Calculating timestamps for start and finish dates.\\\n",
    "    5.2 Performing query to BQ. This query is getting data for the selected object (e.g. ETH) wich falling into period from start date to finish date. Also, this query is grouping selected data by period wich defined in the parameter.\\\n",
    "    5.3 Here a column with a human-readable date is added to selected data.\n",
    "6. **Building graph with candlesticks**"
   ]
  },
  {
   "cell_type": "markdown",
   "metadata": {},
   "source": [
    "### Install jupyter extensions to draw plotly charts"
   ]
  },
  {
   "cell_type": "code",
   "execution_count": 16,
   "metadata": {},
   "outputs": [
    {
     "name": "stdout",
     "output_type": "stream",
     "text": []
    },
    {
     "name": "stdout",
     "output_type": "stream",
     "text": []
    },
    {
     "name": "stdout",
     "output_type": "stream",
     "text": []
    },
    {
     "name": "stdout",
     "output_type": "stream",
     "text": [
      "[LabBuildApp] JupyterLab 1.2.6\n",
      "[LabBuildApp] Building in /opt/conda/share/jupyter/lab\n",
      "[LabBuildApp] Building jupyterlab assets (build:prod:minimize)\n"
     ]
    }
   ],
   "source": [
    "!jupyter labextension install @jupyter-widgets/jupyterlab-manager@1.1 --no-build\n",
    "!jupyter labextension install plotlywidget@1.5.2 --no-build\n",
    "!jupyter labextension install jupyterlab-plotly@1.5.2 --no-build\n",
    "!jupyter lab build"
   ]
  },
  {
   "cell_type": "markdown",
   "metadata": {},
   "source": [
    "<strong style=\"color:red\">! Now restart kernel to enable extensions</strong>"
   ]
  },
  {
   "cell_type": "markdown",
   "metadata": {},
   "source": [
    "### Import modules"
   ]
  },
  {
   "cell_type": "code",
   "execution_count": 1,
   "metadata": {},
   "outputs": [],
   "source": [
    "from google.cloud import bigquery\n",
    "import plotly.graph_objects as go\n",
    "import datetime\n",
    "import time\n",
    "import ipywidgets as widgets\n",
    "from IPython.core.display import display"
   ]
  },
  {
   "cell_type": "markdown",
   "metadata": {},
   "source": [
    "### Setting constants:\n",
    "- DEFAULT_SYMBOL - default stock symbol on which we'll be filtering trades.\n",
    "- TIME_WINDOW - window for which we'll be calculating candles."
   ]
  },
  {
   "cell_type": "code",
   "execution_count": 32,
   "metadata": {},
   "outputs": [],
   "source": [
    "BQ_PROJECT_ID = 'streaming-fsi-showcase'\n",
    "DEFAULT_SYMBOL = 'GE'\n",
    "TIME_WINDOW = 300 # in seconds"
   ]
  },
  {
   "cell_type": "markdown",
   "metadata": {},
   "source": [
    "### Inspect what symbols are in dataset"
   ]
  },
  {
   "cell_type": "code",
   "execution_count": 17,
   "metadata": {},
   "outputs": [
    {
     "name": "stdout",
     "output_type": "stream",
     "text": [
      "     symbol\n",
      "0         A\n",
      "1        AA\n",
      "2      AAAU\n",
      "3       AAC\n",
      "4      AADR\n",
      "...     ...\n",
      "6069  ZWZZT\n",
      "6070  ZXIET\n",
      "6071  ZXZZT\n",
      "6072   ZYME\n",
      "6073   ZYNE\n",
      "\n",
      "[6074 rows x 1 columns]\n",
      "     symbol\n",
      "2101   GOAT\n",
      "2102   GOAU\n",
      "2103   GOEX\n",
      "2104    GOF\n",
      "2105    GOL\n",
      "2106   GOLF\n",
      "2107   GOOS\n",
      "2108   GORO\n",
      "2109   GOVT\n"
     ]
    }
   ],
   "source": [
    "client = bigquery.Client(project = BQ_PROJECT_ID)\n",
    "\n",
    "symbols = client.query('SELECT DISTINCT symbol FROM `polygon.trades` ORDER BY symbol').to_dataframe()\n",
    "\n",
    "# output all symbols\n",
    "print(symbols)\n",
    "\n",
    "# output filtered symbols. e.g. characters starting with ZX\n",
    "print(symbols[symbols.symbol.str.match('GO.*')])"
   ]
  },
  {
   "cell_type": "markdown",
   "metadata": {},
   "source": [
    "### Select stock symbol you want to analyze"
   ]
  },
  {
   "cell_type": "code",
   "execution_count": 33,
   "metadata": {},
   "outputs": [],
   "source": [
    "symbol = DEFAULT_SYMBOL"
   ]
  },
  {
   "cell_type": "markdown",
   "metadata": {},
   "source": [
    "### Inspect what records do we have for a given symbol"
   ]
  },
  {
   "cell_type": "code",
   "execution_count": 34,
   "metadata": {},
   "outputs": [
    {
     "name": "stdout",
     "output_type": "stream",
     "text": [
      "Info for GE:\n",
      "\tMin date: 2018-12-31 18:13:22 \n",
      "\tMax date: 2019-01-01 00:59:26 \n",
      "\tRows: 67220\n",
      "\n"
     ]
    }
   ],
   "source": [
    "info = client.query('''\n",
    "  SELECT \n",
    "    MIN(UNIX_SECONDS(ts)) as min_ts, MAX(UNIX_SECONDS(ts)) as max_ts, COUNT(*) as total\n",
    "  FROM `polygon.trades` WHERE symbol=\"{}\"'''\n",
    "  .format(symbol)).to_dataframe()\n",
    "\n",
    "min_date = datetime.datetime.fromtimestamp(info['min_ts'][0])\n",
    "max_date = datetime.datetime.fromtimestamp(info['max_ts'][0])\n",
    "\n",
    "print(\"Info for %s:\\n\\tMin date: %s \\n\\tMax date: %s \\n\\tRows: %d\\n\" % (symbol, min_date, max_date, info['total']))"
   ]
  },
  {
   "cell_type": "markdown",
   "metadata": {},
   "source": [
    "### Define date range"
   ]
  },
  {
   "cell_type": "code",
   "execution_count": 35,
   "metadata": {},
   "outputs": [
    {
     "data": {
      "application/vnd.jupyter.widget-view+json": {
       "model_id": "9b6e619e21d34e1dbebefab454b9a3b7",
       "version_major": 2,
       "version_minor": 0
      },
      "text/plain": [
       "DatePicker(value=datetime.datetime(2018, 12, 31, 18, 13, 22), description='Start Date')"
      ]
     },
     "metadata": {},
     "output_type": "display_data"
    },
    {
     "data": {
      "application/vnd.jupyter.widget-view+json": {
       "model_id": "b8bc716b3f574e009a1e331a341eb421",
       "version_major": 2,
       "version_minor": 0
      },
      "text/plain": [
       "DatePicker(value=datetime.datetime(2019, 1, 1, 0, 59, 26), description='Finish Date')"
      ]
     },
     "metadata": {},
     "output_type": "display_data"
    }
   ],
   "source": [
    "start_date_widget = widgets.DatePicker(\n",
    "    description='Start Date',\n",
    "    value=min_date,\n",
    "    disabled=False\n",
    ")\n",
    "finish_date_widget = widgets.DatePicker(\n",
    "    description='Finish Date',\n",
    "    value=max_date,\n",
    "    disabled=False\n",
    ")\n",
    "display(start_date_widget, finish_date_widget)"
   ]
  },
  {
   "cell_type": "markdown",
   "metadata": {},
   "source": [
    "### Query min, max,open and close prices over time windows"
   ]
  },
  {
   "cell_type": "code",
   "execution_count": 36,
   "metadata": {},
   "outputs": [
    {
     "data": {
      "text/html": [
       "<div>\n",
       "<style scoped>\n",
       "    .dataframe tbody tr th:only-of-type {\n",
       "        vertical-align: middle;\n",
       "    }\n",
       "\n",
       "    .dataframe tbody tr th {\n",
       "        vertical-align: top;\n",
       "    }\n",
       "\n",
       "    .dataframe thead th {\n",
       "        text-align: right;\n",
       "    }\n",
       "</style>\n",
       "<table border=\"1\" class=\"dataframe\">\n",
       "  <thead>\n",
       "    <tr style=\"text-align: right;\">\n",
       "      <th></th>\n",
       "      <th>min_ts</th>\n",
       "      <th>max_ts</th>\n",
       "      <th>min_price</th>\n",
       "      <th>max_price</th>\n",
       "      <th>open_price</th>\n",
       "      <th>close_price</th>\n",
       "      <th>date</th>\n",
       "    </tr>\n",
       "  </thead>\n",
       "  <tbody>\n",
       "    <tr>\n",
       "      <th>0</th>\n",
       "      <td>1546280002</td>\n",
       "      <td>1546280099</td>\n",
       "      <td>746</td>\n",
       "      <td>747</td>\n",
       "      <td>746</td>\n",
       "      <td>746</td>\n",
       "      <td>2018-12-31 18:13:22</td>\n",
       "    </tr>\n",
       "    <tr>\n",
       "      <th>1</th>\n",
       "      <td>1546280100</td>\n",
       "      <td>1546280399</td>\n",
       "      <td>746</td>\n",
       "      <td>748</td>\n",
       "      <td>747</td>\n",
       "      <td>748</td>\n",
       "      <td>2018-12-31 18:15:00</td>\n",
       "    </tr>\n",
       "    <tr>\n",
       "      <th>2</th>\n",
       "      <td>1546280401</td>\n",
       "      <td>1546280698</td>\n",
       "      <td>747</td>\n",
       "      <td>750</td>\n",
       "      <td>748</td>\n",
       "      <td>750</td>\n",
       "      <td>2018-12-31 18:20:01</td>\n",
       "    </tr>\n",
       "    <tr>\n",
       "      <th>3</th>\n",
       "      <td>1546280700</td>\n",
       "      <td>1546280998</td>\n",
       "      <td>749</td>\n",
       "      <td>750</td>\n",
       "      <td>750</td>\n",
       "      <td>750</td>\n",
       "      <td>2018-12-31 18:25:00</td>\n",
       "    </tr>\n",
       "    <tr>\n",
       "      <th>4</th>\n",
       "      <td>1546281000</td>\n",
       "      <td>1546281299</td>\n",
       "      <td>745</td>\n",
       "      <td>750</td>\n",
       "      <td>750</td>\n",
       "      <td>745</td>\n",
       "      <td>2018-12-31 18:30:00</td>\n",
       "    </tr>\n",
       "  </tbody>\n",
       "</table>\n",
       "</div>"
      ],
      "text/plain": [
       "       min_ts      max_ts  min_price  max_price  open_price  close_price  \\\n",
       "0  1546280002  1546280099        746        747         746          746   \n",
       "1  1546280100  1546280399        746        748         747          748   \n",
       "2  1546280401  1546280698        747        750         748          750   \n",
       "3  1546280700  1546280998        749        750         750          750   \n",
       "4  1546281000  1546281299        745        750         750          745   \n",
       "\n",
       "                 date  \n",
       "0 2018-12-31 18:13:22  \n",
       "1 2018-12-31 18:15:00  \n",
       "2 2018-12-31 18:20:01  \n",
       "3 2018-12-31 18:25:00  \n",
       "4 2018-12-31 18:30:00  "
      ]
     },
     "execution_count": 36,
     "metadata": {},
     "output_type": "execute_result"
    }
   ],
   "source": [
    "start_date = datetime.datetime.combine(start_date_widget.value, datetime.time(0,0,0)) if start_date_widget.value else datetime.datetime.combine(min_date, datetime.time(0,0,0))\n",
    "finish_date = datetime.datetime.combine(finish_date_widget.value, datetime.time(23,59,59)) if start_date_widget.value else datetime.datetime.combine(max_date, datetime.time(23,59,59))\n",
    "\n",
    "ts_start_date = int(time.mktime(start_date.timetuple()))\n",
    "ts_finish_date = int(time.mktime(finish_date.timetuple()))\n",
    "\n",
    "df = client.query('''\n",
    "  SELECT\n",
    "    UNIX_SECONDS(min_ts) AS min_ts, UNIX_SECONDS(max_ts) AS max_ts,\n",
    "    min_price, max_price, ti1.price AS open_price, ti2.price AS close_price\n",
    "  FROM (\n",
    "    SELECT\n",
    "      MIN(ts) AS min_ts, MAX(ts) AS max_ts, \n",
    "      MIN(price) AS min_price, MAX(price) AS max_price, \n",
    "      FLOOR((UNIX_SECONDS(ts)/{1}))\n",
    "    FROM polygon.trades\n",
    "    WHERE symbol=\"{0}\" AND UNIX_SECONDS(ts)>={2} AND UNIX_SECONDS(ts)<={3}\n",
    "    GROUP BY FLOOR((UNIX_SECONDS(ts)/{1}))\n",
    "  ) q\n",
    "  JOIN polygon.trades ti1 ON ti1.ts=min_ts AND ti1.symbol=\"{0}\"\n",
    "  JOIN polygon.trades ti2 ON ti2.ts=max_ts AND ti2.symbol=\"{0}\"\n",
    "  ORDER BY min_ts\n",
    "'''.format(symbol, TIME_WINDOW, ts_start_date, ts_finish_date)).to_dataframe()\n",
    "\n",
    "df['date'] = df.apply(lambda row: datetime.datetime.fromtimestamp(row.min_ts), axis = 1)\n",
    "df.head()"
   ]
  },
  {
   "cell_type": "markdown",
   "metadata": {},
   "source": [
    "### Plot candlestick chart"
   ]
  },
  {
   "cell_type": "code",
   "execution_count": 39,
   "metadata": {},
   "outputs": [
    {
     "data": {
      "application/vnd.plotly.v1+json": {
       "config": {
        "plotlyServerURL": "https://plot.ly"
       },
       "data": [
        {
         "close": [
          746,
          748,
          750,
          750,
          745,
          746,
          743,
          746,
          744,
          741,
          742,
          744,
          742,
          746,
          743,
          742,
          743,
          744,
          743,
          746,
          746,
          743,
          746,
          745,
          745,
          744,
          744,
          748,
          750,
          751,
          753,
          752,
          751,
          757,
          753,
          755,
          753,
          750,
          750,
          754,
          750,
          752,
          754,
          752,
          754,
          754,
          754,
          754,
          754,
          754,
          753,
          754,
          754,
          753,
          753,
          752,
          752,
          752,
          751,
          751,
          751,
          751,
          753,
          754,
          754,
          751,
          753,
          751,
          753,
          753,
          752
         ],
         "high": [
          747,
          748,
          750,
          750,
          750,
          746,
          746,
          746,
          748,
          745,
          751,
          744,
          744,
          747,
          746,
          743,
          743,
          744,
          745,
          746,
          747,
          747,
          751,
          747,
          749,
          745,
          745,
          748,
          750,
          751,
          753,
          754,
          753,
          757,
          760,
          755,
          757,
          757,
          757,
          757,
          755,
          757,
          757,
          754,
          754,
          754,
          754,
          754,
          754,
          754,
          754,
          754,
          754,
          754,
          753,
          753,
          753,
          752,
          751,
          752,
          751,
          751,
          753,
          754,
          754,
          751,
          753,
          753,
          753,
          753,
          752
         ],
         "low": [
          746,
          746,
          747,
          749,
          745,
          744,
          742,
          739,
          743,
          738,
          740,
          741,
          741,
          741,
          741,
          741,
          741,
          742,
          743,
          743,
          742,
          743,
          743,
          744,
          744,
          742,
          743,
          742,
          746,
          748,
          750,
          750,
          750,
          748,
          747,
          753,
          753,
          750,
          750,
          750,
          750,
          750,
          751,
          752,
          752,
          752,
          752,
          752,
          752,
          752,
          752,
          753,
          753,
          752,
          752,
          752,
          751,
          751,
          751,
          751,
          751,
          751,
          753,
          754,
          754,
          751,
          752,
          751,
          753,
          753,
          751
         ],
         "open": [
          746,
          747,
          748,
          750,
          750,
          746,
          745,
          742,
          746,
          743,
          740,
          742,
          743,
          742,
          746,
          742,
          742,
          742,
          744,
          744,
          745,
          746,
          743,
          746,
          745,
          745,
          744,
          743,
          748,
          750,
          751,
          753,
          752,
          750,
          757,
          754,
          755,
          753,
          754,
          754,
          754,
          752,
          752,
          754,
          754,
          752,
          754,
          754,
          754,
          754,
          754,
          753,
          753,
          753,
          752,
          752,
          753,
          752,
          751,
          752,
          751,
          751,
          753,
          754,
          754,
          751,
          752,
          753,
          753,
          753,
          751
         ],
         "type": "candlestick",
         "x": [
          "2018-12-31T18:13:22",
          "2018-12-31T18:15:00",
          "2018-12-31T18:20:01",
          "2018-12-31T18:25:00",
          "2018-12-31T18:30:00",
          "2018-12-31T18:35:00",
          "2018-12-31T18:40:02",
          "2018-12-31T18:45:00",
          "2018-12-31T18:50:00",
          "2018-12-31T18:55:02",
          "2018-12-31T19:00:00",
          "2018-12-31T19:05:00",
          "2018-12-31T19:10:00",
          "2018-12-31T19:15:00",
          "2018-12-31T19:20:00",
          "2018-12-31T19:25:00",
          "2018-12-31T19:30:02",
          "2018-12-31T19:35:01",
          "2018-12-31T19:40:00",
          "2018-12-31T19:45:00",
          "2018-12-31T19:50:00",
          "2018-12-31T19:55:00",
          "2018-12-31T20:00:01",
          "2018-12-31T20:05:01",
          "2018-12-31T20:10:00",
          "2018-12-31T20:15:00",
          "2018-12-31T20:20:00",
          "2018-12-31T20:25:01",
          "2018-12-31T20:30:00",
          "2018-12-31T20:35:01",
          "2018-12-31T20:40:00",
          "2018-12-31T20:45:00",
          "2018-12-31T20:50:00",
          "2018-12-31T20:55:00",
          "2018-12-31T21:00:00",
          "2018-12-31T21:05:02",
          "2018-12-31T21:10:07",
          "2018-12-31T21:15:02",
          "2018-12-31T21:20:26",
          "2018-12-31T21:25:05",
          "2018-12-31T21:30:06",
          "2018-12-31T21:35:05",
          "2018-12-31T21:40:10",
          "2018-12-31T21:45:00",
          "2018-12-31T21:50:04",
          "2018-12-31T21:55:16",
          "2018-12-31T22:00:09",
          "2018-12-31T22:05:11",
          "2018-12-31T22:10:21",
          "2018-12-31T22:15:16",
          "2018-12-31T22:20:06",
          "2018-12-31T22:25:02",
          "2018-12-31T22:30:02",
          "2018-12-31T22:35:08",
          "2018-12-31T22:40:22",
          "2018-12-31T22:45:28",
          "2018-12-31T22:50:11",
          "2018-12-31T22:55:10",
          "2018-12-31T23:01:38",
          "2018-12-31T23:06:19",
          "2018-12-31T23:10:34",
          "2018-12-31T23:31:52",
          "2018-12-31T23:41:07",
          "2018-12-31T23:47:54",
          "2019-01-01T00:14:22",
          "2019-01-01T00:17:26",
          "2019-01-01T00:23:10",
          "2019-01-01T00:30:47",
          "2019-01-01T00:43:25",
          "2019-01-01T00:46:38",
          "2019-01-01T00:59:02"
         ]
        }
       ],
       "layout": {
        "autosize": true,
        "template": {
         "data": {
          "bar": [
           {
            "error_x": {
             "color": "#2a3f5f"
            },
            "error_y": {
             "color": "#2a3f5f"
            },
            "marker": {
             "line": {
              "color": "#E5ECF6",
              "width": 0.5
             }
            },
            "type": "bar"
           }
          ],
          "barpolar": [
           {
            "marker": {
             "line": {
              "color": "#E5ECF6",
              "width": 0.5
             }
            },
            "type": "barpolar"
           }
          ],
          "carpet": [
           {
            "aaxis": {
             "endlinecolor": "#2a3f5f",
             "gridcolor": "white",
             "linecolor": "white",
             "minorgridcolor": "white",
             "startlinecolor": "#2a3f5f"
            },
            "baxis": {
             "endlinecolor": "#2a3f5f",
             "gridcolor": "white",
             "linecolor": "white",
             "minorgridcolor": "white",
             "startlinecolor": "#2a3f5f"
            },
            "type": "carpet"
           }
          ],
          "choropleth": [
           {
            "colorbar": {
             "outlinewidth": 0,
             "ticks": ""
            },
            "type": "choropleth"
           }
          ],
          "contour": [
           {
            "colorbar": {
             "outlinewidth": 0,
             "ticks": ""
            },
            "colorscale": [
             [
              0,
              "#0d0887"
             ],
             [
              0.1111111111111111,
              "#46039f"
             ],
             [
              0.2222222222222222,
              "#7201a8"
             ],
             [
              0.3333333333333333,
              "#9c179e"
             ],
             [
              0.4444444444444444,
              "#bd3786"
             ],
             [
              0.5555555555555556,
              "#d8576b"
             ],
             [
              0.6666666666666666,
              "#ed7953"
             ],
             [
              0.7777777777777778,
              "#fb9f3a"
             ],
             [
              0.8888888888888888,
              "#fdca26"
             ],
             [
              1,
              "#f0f921"
             ]
            ],
            "type": "contour"
           }
          ],
          "contourcarpet": [
           {
            "colorbar": {
             "outlinewidth": 0,
             "ticks": ""
            },
            "type": "contourcarpet"
           }
          ],
          "heatmap": [
           {
            "colorbar": {
             "outlinewidth": 0,
             "ticks": ""
            },
            "colorscale": [
             [
              0,
              "#0d0887"
             ],
             [
              0.1111111111111111,
              "#46039f"
             ],
             [
              0.2222222222222222,
              "#7201a8"
             ],
             [
              0.3333333333333333,
              "#9c179e"
             ],
             [
              0.4444444444444444,
              "#bd3786"
             ],
             [
              0.5555555555555556,
              "#d8576b"
             ],
             [
              0.6666666666666666,
              "#ed7953"
             ],
             [
              0.7777777777777778,
              "#fb9f3a"
             ],
             [
              0.8888888888888888,
              "#fdca26"
             ],
             [
              1,
              "#f0f921"
             ]
            ],
            "type": "heatmap"
           }
          ],
          "heatmapgl": [
           {
            "colorbar": {
             "outlinewidth": 0,
             "ticks": ""
            },
            "colorscale": [
             [
              0,
              "#0d0887"
             ],
             [
              0.1111111111111111,
              "#46039f"
             ],
             [
              0.2222222222222222,
              "#7201a8"
             ],
             [
              0.3333333333333333,
              "#9c179e"
             ],
             [
              0.4444444444444444,
              "#bd3786"
             ],
             [
              0.5555555555555556,
              "#d8576b"
             ],
             [
              0.6666666666666666,
              "#ed7953"
             ],
             [
              0.7777777777777778,
              "#fb9f3a"
             ],
             [
              0.8888888888888888,
              "#fdca26"
             ],
             [
              1,
              "#f0f921"
             ]
            ],
            "type": "heatmapgl"
           }
          ],
          "histogram": [
           {
            "marker": {
             "colorbar": {
              "outlinewidth": 0,
              "ticks": ""
             }
            },
            "type": "histogram"
           }
          ],
          "histogram2d": [
           {
            "colorbar": {
             "outlinewidth": 0,
             "ticks": ""
            },
            "colorscale": [
             [
              0,
              "#0d0887"
             ],
             [
              0.1111111111111111,
              "#46039f"
             ],
             [
              0.2222222222222222,
              "#7201a8"
             ],
             [
              0.3333333333333333,
              "#9c179e"
             ],
             [
              0.4444444444444444,
              "#bd3786"
             ],
             [
              0.5555555555555556,
              "#d8576b"
             ],
             [
              0.6666666666666666,
              "#ed7953"
             ],
             [
              0.7777777777777778,
              "#fb9f3a"
             ],
             [
              0.8888888888888888,
              "#fdca26"
             ],
             [
              1,
              "#f0f921"
             ]
            ],
            "type": "histogram2d"
           }
          ],
          "histogram2dcontour": [
           {
            "colorbar": {
             "outlinewidth": 0,
             "ticks": ""
            },
            "colorscale": [
             [
              0,
              "#0d0887"
             ],
             [
              0.1111111111111111,
              "#46039f"
             ],
             [
              0.2222222222222222,
              "#7201a8"
             ],
             [
              0.3333333333333333,
              "#9c179e"
             ],
             [
              0.4444444444444444,
              "#bd3786"
             ],
             [
              0.5555555555555556,
              "#d8576b"
             ],
             [
              0.6666666666666666,
              "#ed7953"
             ],
             [
              0.7777777777777778,
              "#fb9f3a"
             ],
             [
              0.8888888888888888,
              "#fdca26"
             ],
             [
              1,
              "#f0f921"
             ]
            ],
            "type": "histogram2dcontour"
           }
          ],
          "mesh3d": [
           {
            "colorbar": {
             "outlinewidth": 0,
             "ticks": ""
            },
            "type": "mesh3d"
           }
          ],
          "parcoords": [
           {
            "line": {
             "colorbar": {
              "outlinewidth": 0,
              "ticks": ""
             }
            },
            "type": "parcoords"
           }
          ],
          "pie": [
           {
            "automargin": true,
            "type": "pie"
           }
          ],
          "scatter": [
           {
            "marker": {
             "colorbar": {
              "outlinewidth": 0,
              "ticks": ""
             }
            },
            "type": "scatter"
           }
          ],
          "scatter3d": [
           {
            "line": {
             "colorbar": {
              "outlinewidth": 0,
              "ticks": ""
             }
            },
            "marker": {
             "colorbar": {
              "outlinewidth": 0,
              "ticks": ""
             }
            },
            "type": "scatter3d"
           }
          ],
          "scattercarpet": [
           {
            "marker": {
             "colorbar": {
              "outlinewidth": 0,
              "ticks": ""
             }
            },
            "type": "scattercarpet"
           }
          ],
          "scattergeo": [
           {
            "marker": {
             "colorbar": {
              "outlinewidth": 0,
              "ticks": ""
             }
            },
            "type": "scattergeo"
           }
          ],
          "scattergl": [
           {
            "marker": {
             "colorbar": {
              "outlinewidth": 0,
              "ticks": ""
             }
            },
            "type": "scattergl"
           }
          ],
          "scattermapbox": [
           {
            "marker": {
             "colorbar": {
              "outlinewidth": 0,
              "ticks": ""
             }
            },
            "type": "scattermapbox"
           }
          ],
          "scatterpolar": [
           {
            "marker": {
             "colorbar": {
              "outlinewidth": 0,
              "ticks": ""
             }
            },
            "type": "scatterpolar"
           }
          ],
          "scatterpolargl": [
           {
            "marker": {
             "colorbar": {
              "outlinewidth": 0,
              "ticks": ""
             }
            },
            "type": "scatterpolargl"
           }
          ],
          "scatterternary": [
           {
            "marker": {
             "colorbar": {
              "outlinewidth": 0,
              "ticks": ""
             }
            },
            "type": "scatterternary"
           }
          ],
          "surface": [
           {
            "colorbar": {
             "outlinewidth": 0,
             "ticks": ""
            },
            "colorscale": [
             [
              0,
              "#0d0887"
             ],
             [
              0.1111111111111111,
              "#46039f"
             ],
             [
              0.2222222222222222,
              "#7201a8"
             ],
             [
              0.3333333333333333,
              "#9c179e"
             ],
             [
              0.4444444444444444,
              "#bd3786"
             ],
             [
              0.5555555555555556,
              "#d8576b"
             ],
             [
              0.6666666666666666,
              "#ed7953"
             ],
             [
              0.7777777777777778,
              "#fb9f3a"
             ],
             [
              0.8888888888888888,
              "#fdca26"
             ],
             [
              1,
              "#f0f921"
             ]
            ],
            "type": "surface"
           }
          ],
          "table": [
           {
            "cells": {
             "fill": {
              "color": "#EBF0F8"
             },
             "line": {
              "color": "white"
             }
            },
            "header": {
             "fill": {
              "color": "#C8D4E3"
             },
             "line": {
              "color": "white"
             }
            },
            "type": "table"
           }
          ]
         },
         "layout": {
          "annotationdefaults": {
           "arrowcolor": "#2a3f5f",
           "arrowhead": 0,
           "arrowwidth": 1
          },
          "coloraxis": {
           "colorbar": {
            "outlinewidth": 0,
            "ticks": ""
           }
          },
          "colorscale": {
           "diverging": [
            [
             0,
             "#8e0152"
            ],
            [
             0.1,
             "#c51b7d"
            ],
            [
             0.2,
             "#de77ae"
            ],
            [
             0.3,
             "#f1b6da"
            ],
            [
             0.4,
             "#fde0ef"
            ],
            [
             0.5,
             "#f7f7f7"
            ],
            [
             0.6,
             "#e6f5d0"
            ],
            [
             0.7,
             "#b8e186"
            ],
            [
             0.8,
             "#7fbc41"
            ],
            [
             0.9,
             "#4d9221"
            ],
            [
             1,
             "#276419"
            ]
           ],
           "sequential": [
            [
             0,
             "#0d0887"
            ],
            [
             0.1111111111111111,
             "#46039f"
            ],
            [
             0.2222222222222222,
             "#7201a8"
            ],
            [
             0.3333333333333333,
             "#9c179e"
            ],
            [
             0.4444444444444444,
             "#bd3786"
            ],
            [
             0.5555555555555556,
             "#d8576b"
            ],
            [
             0.6666666666666666,
             "#ed7953"
            ],
            [
             0.7777777777777778,
             "#fb9f3a"
            ],
            [
             0.8888888888888888,
             "#fdca26"
            ],
            [
             1,
             "#f0f921"
            ]
           ],
           "sequentialminus": [
            [
             0,
             "#0d0887"
            ],
            [
             0.1111111111111111,
             "#46039f"
            ],
            [
             0.2222222222222222,
             "#7201a8"
            ],
            [
             0.3333333333333333,
             "#9c179e"
            ],
            [
             0.4444444444444444,
             "#bd3786"
            ],
            [
             0.5555555555555556,
             "#d8576b"
            ],
            [
             0.6666666666666666,
             "#ed7953"
            ],
            [
             0.7777777777777778,
             "#fb9f3a"
            ],
            [
             0.8888888888888888,
             "#fdca26"
            ],
            [
             1,
             "#f0f921"
            ]
           ]
          },
          "colorway": [
           "#636efa",
           "#EF553B",
           "#00cc96",
           "#ab63fa",
           "#FFA15A",
           "#19d3f3",
           "#FF6692",
           "#B6E880",
           "#FF97FF",
           "#FECB52"
          ],
          "font": {
           "color": "#2a3f5f"
          },
          "geo": {
           "bgcolor": "white",
           "lakecolor": "white",
           "landcolor": "#E5ECF6",
           "showlakes": true,
           "showland": true,
           "subunitcolor": "white"
          },
          "hoverlabel": {
           "align": "left"
          },
          "hovermode": "closest",
          "mapbox": {
           "style": "light"
          },
          "paper_bgcolor": "white",
          "plot_bgcolor": "#E5ECF6",
          "polar": {
           "angularaxis": {
            "gridcolor": "white",
            "linecolor": "white",
            "ticks": ""
           },
           "bgcolor": "#E5ECF6",
           "radialaxis": {
            "gridcolor": "white",
            "linecolor": "white",
            "ticks": ""
           }
          },
          "scene": {
           "xaxis": {
            "backgroundcolor": "#E5ECF6",
            "gridcolor": "white",
            "gridwidth": 2,
            "linecolor": "white",
            "showbackground": true,
            "ticks": "",
            "zerolinecolor": "white"
           },
           "yaxis": {
            "backgroundcolor": "#E5ECF6",
            "gridcolor": "white",
            "gridwidth": 2,
            "linecolor": "white",
            "showbackground": true,
            "ticks": "",
            "zerolinecolor": "white"
           },
           "zaxis": {
            "backgroundcolor": "#E5ECF6",
            "gridcolor": "white",
            "gridwidth": 2,
            "linecolor": "white",
            "showbackground": true,
            "ticks": "",
            "zerolinecolor": "white"
           }
          },
          "shapedefaults": {
           "line": {
            "color": "#2a3f5f"
           }
          },
          "ternary": {
           "aaxis": {
            "gridcolor": "white",
            "linecolor": "white",
            "ticks": ""
           },
           "baxis": {
            "gridcolor": "white",
            "linecolor": "white",
            "ticks": ""
           },
           "bgcolor": "#E5ECF6",
           "caxis": {
            "gridcolor": "white",
            "linecolor": "white",
            "ticks": ""
           }
          },
          "title": {
           "x": 0.05
          },
          "xaxis": {
           "automargin": true,
           "gridcolor": "white",
           "linecolor": "white",
           "ticks": "",
           "title": {
            "standoff": 15
           },
           "zerolinecolor": "white",
           "zerolinewidth": 2
          },
          "yaxis": {
           "automargin": true,
           "gridcolor": "white",
           "linecolor": "white",
           "ticks": "",
           "title": {
            "standoff": 15
           },
           "zerolinecolor": "white",
           "zerolinewidth": 2
          }
         }
        },
        "xaxis": {
         "autorange": true,
         "range": [
          "2018-12-31 18:12:33",
          "2019-01-01 00:59:51"
         ],
         "rangeslider": {
          "visible": false,
          "yaxis": {}
         },
         "type": "date"
        },
        "yaxis": {
         "autorange": true,
         "range": [
          736.7777777777778,
          761.2222222222222
         ]
        }
       }
      },
      "image/png": "[encoded data removed]",
      "text/html": [
       "<div>\n",
       "        \n",
       "        \n",
       "            <div id=\"9505d78a-1424-434e-8932-9c9d7ca75f8e\" class=\"plotly-graph-div\" style=\"height:525px; width:100%;\"></div>\n",
       "            <script type=\"text/javascript\">\n",
       "                require([\"plotly\"], function(Plotly) {\n",
       "                    window.PLOTLYENV=window.PLOTLYENV || {};\n",
       "                    \n",
       "                if (document.getElementById(\"9505d78a-1424-434e-8932-9c9d7ca75f8e\")) {\n",
       "                    Plotly.newPlot(\n",
       "                        '9505d78a-1424-434e-8932-9c9d7ca75f8e',\n",
       "                        [{\"close\": [746, 748, 750, 750, 745, 746, 743, 746, 744, 741, 742, 744, 742, 746, 743, 742, 743, 744, 743, 746, 746, 743, 746, 745, 745, 744, 744, 748, 750, 751, 753, 752, 751, 757, 753, 755, 753, 750, 750, 754, 750, 752, 754, 752, 754, 754, 754, 754, 754, 754, 753, 754, 754, 753, 753, 752, 752, 752, 751, 751, 751, 751, 753, 754, 754, 751, 753, 751, 753, 753, 752], \"high\": [747, 748, 750, 750, 750, 746, 746, 746, 748, 745, 751, 744, 744, 747, 746, 743, 743, 744, 745, 746, 747, 747, 751, 747, 749, 745, 745, 748, 750, 751, 753, 754, 753, 757, 760, 755, 757, 757, 757, 757, 755, 757, 757, 754, 754, 754, 754, 754, 754, 754, 754, 754, 754, 754, 753, 753, 753, 752, 751, 752, 751, 751, 753, 754, 754, 751, 753, 753, 753, 753, 752], \"low\": [746, 746, 747, 749, 745, 744, 742, 739, 743, 738, 740, 741, 741, 741, 741, 741, 741, 742, 743, 743, 742, 743, 743, 744, 744, 742, 743, 742, 746, 748, 750, 750, 750, 748, 747, 753, 753, 750, 750, 750, 750, 750, 751, 752, 752, 752, 752, 752, 752, 752, 752, 753, 753, 752, 752, 752, 751, 751, 751, 751, 751, 751, 753, 754, 754, 751, 752, 751, 753, 753, 751], \"open\": [746, 747, 748, 750, 750, 746, 745, 742, 746, 743, 740, 742, 743, 742, 746, 742, 742, 742, 744, 744, 745, 746, 743, 746, 745, 745, 744, 743, 748, 750, 751, 753, 752, 750, 757, 754, 755, 753, 754, 754, 754, 752, 752, 754, 754, 752, 754, 754, 754, 754, 754, 753, 753, 753, 752, 752, 753, 752, 751, 752, 751, 751, 753, 754, 754, 751, 752, 753, 753, 753, 751], \"type\": \"candlestick\", \"x\": [\"2018-12-31T18:13:22\", \"2018-12-31T18:15:00\", \"2018-12-31T18:20:01\", \"2018-12-31T18:25:00\", \"2018-12-31T18:30:00\", \"2018-12-31T18:35:00\", \"2018-12-31T18:40:02\", \"2018-12-31T18:45:00\", \"2018-12-31T18:50:00\", \"2018-12-31T18:55:02\", \"2018-12-31T19:00:00\", \"2018-12-31T19:05:00\", \"2018-12-31T19:10:00\", \"2018-12-31T19:15:00\", \"2018-12-31T19:20:00\", \"2018-12-31T19:25:00\", \"2018-12-31T19:30:02\", \"2018-12-31T19:35:01\", \"2018-12-31T19:40:00\", \"2018-12-31T19:45:00\", \"2018-12-31T19:50:00\", \"2018-12-31T19:55:00\", \"2018-12-31T20:00:01\", \"2018-12-31T20:05:01\", \"2018-12-31T20:10:00\", \"2018-12-31T20:15:00\", \"2018-12-31T20:20:00\", \"2018-12-31T20:25:01\", \"2018-12-31T20:30:00\", \"2018-12-31T20:35:01\", \"2018-12-31T20:40:00\", \"2018-12-31T20:45:00\", \"2018-12-31T20:50:00\", \"2018-12-31T20:55:00\", \"2018-12-31T21:00:00\", \"2018-12-31T21:05:02\", \"2018-12-31T21:10:07\", \"2018-12-31T21:15:02\", \"2018-12-31T21:20:26\", \"2018-12-31T21:25:05\", \"2018-12-31T21:30:06\", \"2018-12-31T21:35:05\", \"2018-12-31T21:40:10\", \"2018-12-31T21:45:00\", \"2018-12-31T21:50:04\", \"2018-12-31T21:55:16\", \"2018-12-31T22:00:09\", \"2018-12-31T22:05:11\", \"2018-12-31T22:10:21\", \"2018-12-31T22:15:16\", \"2018-12-31T22:20:06\", \"2018-12-31T22:25:02\", \"2018-12-31T22:30:02\", \"2018-12-31T22:35:08\", \"2018-12-31T22:40:22\", \"2018-12-31T22:45:28\", \"2018-12-31T22:50:11\", \"2018-12-31T22:55:10\", \"2018-12-31T23:01:38\", \"2018-12-31T23:06:19\", \"2018-12-31T23:10:34\", \"2018-12-31T23:31:52\", \"2018-12-31T23:41:07\", \"2018-12-31T23:47:54\", \"2019-01-01T00:14:22\", \"2019-01-01T00:17:26\", \"2019-01-01T00:23:10\", \"2019-01-01T00:30:47\", \"2019-01-01T00:43:25\", \"2019-01-01T00:46:38\", \"2019-01-01T00:59:02\"]}],\n",
       "                        {\"template\": {\"data\": {\"bar\": [{\"error_x\": {\"color\": \"#2a3f5f\"}, \"error_y\": {\"color\": \"#2a3f5f\"}, \"marker\": {\"line\": {\"color\": \"#E5ECF6\", \"width\": 0.5}}, \"type\": \"bar\"}], \"barpolar\": [{\"marker\": {\"line\": {\"color\": \"#E5ECF6\", \"width\": 0.5}}, \"type\": \"barpolar\"}], \"carpet\": [{\"aaxis\": {\"endlinecolor\": \"#2a3f5f\", \"gridcolor\": \"white\", \"linecolor\": \"white\", \"minorgridcolor\": \"white\", \"startlinecolor\": \"#2a3f5f\"}, \"baxis\": {\"endlinecolor\": \"#2a3f5f\", \"gridcolor\": \"white\", \"linecolor\": \"white\", \"minorgridcolor\": \"white\", \"startlinecolor\": \"#2a3f5f\"}, \"type\": \"carpet\"}], \"choropleth\": [{\"colorbar\": {\"outlinewidth\": 0, \"ticks\": \"\"}, \"type\": \"choropleth\"}], \"contour\": [{\"colorbar\": {\"outlinewidth\": 0, \"ticks\": \"\"}, \"colorscale\": [[0.0, \"#0d0887\"], [0.1111111111111111, \"#46039f\"], [0.2222222222222222, \"#7201a8\"], [0.3333333333333333, \"#9c179e\"], [0.4444444444444444, \"#bd3786\"], [0.5555555555555556, \"#d8576b\"], [0.6666666666666666, \"#ed7953\"], [0.7777777777777778, \"#fb9f3a\"], [0.8888888888888888, \"#fdca26\"], [1.0, \"#f0f921\"]], \"type\": \"contour\"}], \"contourcarpet\": [{\"colorbar\": {\"outlinewidth\": 0, \"ticks\": \"\"}, \"type\": \"contourcarpet\"}], \"heatmap\": [{\"colorbar\": {\"outlinewidth\": 0, \"ticks\": \"\"}, \"colorscale\": [[0.0, \"#0d0887\"], [0.1111111111111111, \"#46039f\"], [0.2222222222222222, \"#7201a8\"], [0.3333333333333333, \"#9c179e\"], [0.4444444444444444, \"#bd3786\"], [0.5555555555555556, \"#d8576b\"], [0.6666666666666666, \"#ed7953\"], [0.7777777777777778, \"#fb9f3a\"], [0.8888888888888888, \"#fdca26\"], [1.0, \"#f0f921\"]], \"type\": \"heatmap\"}], \"heatmapgl\": [{\"colorbar\": {\"outlinewidth\": 0, \"ticks\": \"\"}, \"colorscale\": [[0.0, \"#0d0887\"], [0.1111111111111111, \"#46039f\"], [0.2222222222222222, \"#7201a8\"], [0.3333333333333333, \"#9c179e\"], [0.4444444444444444, \"#bd3786\"], [0.5555555555555556, \"#d8576b\"], [0.6666666666666666, \"#ed7953\"], [0.7777777777777778, \"#fb9f3a\"], [0.8888888888888888, \"#fdca26\"], [1.0, \"#f0f921\"]], \"type\": \"heatmapgl\"}], \"histogram\": [{\"marker\": {\"colorbar\": {\"outlinewidth\": 0, \"ticks\": \"\"}}, \"type\": \"histogram\"}], \"histogram2d\": [{\"colorbar\": {\"outlinewidth\": 0, \"ticks\": \"\"}, \"colorscale\": [[0.0, \"#0d0887\"], [0.1111111111111111, \"#46039f\"], [0.2222222222222222, \"#7201a8\"], [0.3333333333333333, \"#9c179e\"], [0.4444444444444444, \"#bd3786\"], [0.5555555555555556, \"#d8576b\"], [0.6666666666666666, \"#ed7953\"], [0.7777777777777778, \"#fb9f3a\"], [0.8888888888888888, \"#fdca26\"], [1.0, \"#f0f921\"]], \"type\": \"histogram2d\"}], \"histogram2dcontour\": [{\"colorbar\": {\"outlinewidth\": 0, \"ticks\": \"\"}, \"colorscale\": [[0.0, \"#0d0887\"], [0.1111111111111111, \"#46039f\"], [0.2222222222222222, \"#7201a8\"], [0.3333333333333333, \"#9c179e\"], [0.4444444444444444, \"#bd3786\"], [0.5555555555555556, \"#d8576b\"], [0.6666666666666666, \"#ed7953\"], [0.7777777777777778, \"#fb9f3a\"], [0.8888888888888888, \"#fdca26\"], [1.0, \"#f0f921\"]], \"type\": \"histogram2dcontour\"}], \"mesh3d\": [{\"colorbar\": {\"outlinewidth\": 0, \"ticks\": \"\"}, \"type\": \"mesh3d\"}], \"parcoords\": [{\"line\": {\"colorbar\": {\"outlinewidth\": 0, \"ticks\": \"\"}}, \"type\": \"parcoords\"}], \"pie\": [{\"automargin\": true, \"type\": \"pie\"}], \"scatter\": [{\"marker\": {\"colorbar\": {\"outlinewidth\": 0, \"ticks\": \"\"}}, \"type\": \"scatter\"}], \"scatter3d\": [{\"line\": {\"colorbar\": {\"outlinewidth\": 0, \"ticks\": \"\"}}, \"marker\": {\"colorbar\": {\"outlinewidth\": 0, \"ticks\": \"\"}}, \"type\": \"scatter3d\"}], \"scattercarpet\": [{\"marker\": {\"colorbar\": {\"outlinewidth\": 0, \"ticks\": \"\"}}, \"type\": \"scattercarpet\"}], \"scattergeo\": [{\"marker\": {\"colorbar\": {\"outlinewidth\": 0, \"ticks\": \"\"}}, \"type\": \"scattergeo\"}], \"scattergl\": [{\"marker\": {\"colorbar\": {\"outlinewidth\": 0, \"ticks\": \"\"}}, \"type\": \"scattergl\"}], \"scattermapbox\": [{\"marker\": {\"colorbar\": {\"outlinewidth\": 0, \"ticks\": \"\"}}, \"type\": \"scattermapbox\"}], \"scatterpolar\": [{\"marker\": {\"colorbar\": {\"outlinewidth\": 0, \"ticks\": \"\"}}, \"type\": \"scatterpolar\"}], \"scatterpolargl\": [{\"marker\": {\"colorbar\": {\"outlinewidth\": 0, \"ticks\": \"\"}}, \"type\": \"scatterpolargl\"}], \"scatterternary\": [{\"marker\": {\"colorbar\": {\"outlinewidth\": 0, \"ticks\": \"\"}}, \"type\": \"scatterternary\"}], \"surface\": [{\"colorbar\": {\"outlinewidth\": 0, \"ticks\": \"\"}, \"colorscale\": [[0.0, \"#0d0887\"], [0.1111111111111111, \"#46039f\"], [0.2222222222222222, \"#7201a8\"], [0.3333333333333333, \"#9c179e\"], [0.4444444444444444, \"#bd3786\"], [0.5555555555555556, \"#d8576b\"], [0.6666666666666666, \"#ed7953\"], [0.7777777777777778, \"#fb9f3a\"], [0.8888888888888888, \"#fdca26\"], [1.0, \"#f0f921\"]], \"type\": \"surface\"}], \"table\": [{\"cells\": {\"fill\": {\"color\": \"#EBF0F8\"}, \"line\": {\"color\": \"white\"}}, \"header\": {\"fill\": {\"color\": \"#C8D4E3\"}, \"line\": {\"color\": \"white\"}}, \"type\": \"table\"}]}, \"layout\": {\"annotationdefaults\": {\"arrowcolor\": \"#2a3f5f\", \"arrowhead\": 0, \"arrowwidth\": 1}, \"coloraxis\": {\"colorbar\": {\"outlinewidth\": 0, \"ticks\": \"\"}}, \"colorscale\": {\"diverging\": [[0, \"#8e0152\"], [0.1, \"#c51b7d\"], [0.2, \"#de77ae\"], [0.3, \"#f1b6da\"], [0.4, \"#fde0ef\"], [0.5, \"#f7f7f7\"], [0.6, \"#e6f5d0\"], [0.7, \"#b8e186\"], [0.8, \"#7fbc41\"], [0.9, \"#4d9221\"], [1, \"#276419\"]], \"sequential\": [[0.0, \"#0d0887\"], [0.1111111111111111, \"#46039f\"], [0.2222222222222222, \"#7201a8\"], [0.3333333333333333, \"#9c179e\"], [0.4444444444444444, \"#bd3786\"], [0.5555555555555556, \"#d8576b\"], [0.6666666666666666, \"#ed7953\"], [0.7777777777777778, \"#fb9f3a\"], [0.8888888888888888, \"#fdca26\"], [1.0, \"#f0f921\"]], \"sequentialminus\": [[0.0, \"#0d0887\"], [0.1111111111111111, \"#46039f\"], [0.2222222222222222, \"#7201a8\"], [0.3333333333333333, \"#9c179e\"], [0.4444444444444444, \"#bd3786\"], [0.5555555555555556, \"#d8576b\"], [0.6666666666666666, \"#ed7953\"], [0.7777777777777778, \"#fb9f3a\"], [0.8888888888888888, \"#fdca26\"], [1.0, \"#f0f921\"]]}, \"colorway\": [\"#636efa\", \"#EF553B\", \"#00cc96\", \"#ab63fa\", \"#FFA15A\", \"#19d3f3\", \"#FF6692\", \"#B6E880\", \"#FF97FF\", \"#FECB52\"], \"font\": {\"color\": \"#2a3f5f\"}, \"geo\": {\"bgcolor\": \"white\", \"lakecolor\": \"white\", \"landcolor\": \"#E5ECF6\", \"showlakes\": true, \"showland\": true, \"subunitcolor\": \"white\"}, \"hoverlabel\": {\"align\": \"left\"}, \"hovermode\": \"closest\", \"mapbox\": {\"style\": \"light\"}, \"paper_bgcolor\": \"white\", \"plot_bgcolor\": \"#E5ECF6\", \"polar\": {\"angularaxis\": {\"gridcolor\": \"white\", \"linecolor\": \"white\", \"ticks\": \"\"}, \"bgcolor\": \"#E5ECF6\", \"radialaxis\": {\"gridcolor\": \"white\", \"linecolor\": \"white\", \"ticks\": \"\"}}, \"scene\": {\"xaxis\": {\"backgroundcolor\": \"#E5ECF6\", \"gridcolor\": \"white\", \"gridwidth\": 2, \"linecolor\": \"white\", \"showbackground\": true, \"ticks\": \"\", \"zerolinecolor\": \"white\"}, \"yaxis\": {\"backgroundcolor\": \"#E5ECF6\", \"gridcolor\": \"white\", \"gridwidth\": 2, \"linecolor\": \"white\", \"showbackground\": true, \"ticks\": \"\", \"zerolinecolor\": \"white\"}, \"zaxis\": {\"backgroundcolor\": \"#E5ECF6\", \"gridcolor\": \"white\", \"gridwidth\": 2, \"linecolor\": \"white\", \"showbackground\": true, \"ticks\": \"\", \"zerolinecolor\": \"white\"}}, \"shapedefaults\": {\"line\": {\"color\": \"#2a3f5f\"}}, \"ternary\": {\"aaxis\": {\"gridcolor\": \"white\", \"linecolor\": \"white\", \"ticks\": \"\"}, \"baxis\": {\"gridcolor\": \"white\", \"linecolor\": \"white\", \"ticks\": \"\"}, \"bgcolor\": \"#E5ECF6\", \"caxis\": {\"gridcolor\": \"white\", \"linecolor\": \"white\", \"ticks\": \"\"}}, \"title\": {\"x\": 0.05}, \"xaxis\": {\"automargin\": true, \"gridcolor\": \"white\", \"linecolor\": \"white\", \"ticks\": \"\", \"title\": {\"standoff\": 15}, \"zerolinecolor\": \"white\", \"zerolinewidth\": 2}, \"yaxis\": {\"automargin\": true, \"gridcolor\": \"white\", \"linecolor\": \"white\", \"ticks\": \"\", \"title\": {\"standoff\": 15}, \"zerolinecolor\": \"white\", \"zerolinewidth\": 2}}}, \"xaxis\": {\"rangeslider\": {\"visible\": false}}},\n",
       "                        {\"responsive\": true}\n",
       "                    ).then(function(){\n",
       "                            \n",
       "var gd = document.getElementById('9505d78a-1424-434e-8932-9c9d7ca75f8e');\n",
       "var x = new MutationObserver(function (mutations, observer) {{\n",
       "        var display = window.getComputedStyle(gd).display;\n",
       "        if (!display || display === 'none') {{\n",
       "            console.log([gd, 'removed!']);\n",
       "            Plotly.purge(gd);\n",
       "            observer.disconnect();\n",
       "        }}\n",
       "}});\n",
       "\n",
       "// Listen for the removal of the full notebook cells\n",
       "var notebookContainer = gd.closest('#notebook-container');\n",
       "if (notebookContainer) {{\n",
       "    x.observe(notebookContainer, {childList: true});\n",
       "}}\n",
       "\n",
       "// Listen for the clearing of the current output cell\n",
       "var outputEl = gd.closest('.output');\n",
       "if (outputEl) {{\n",
       "    x.observe(outputEl, {childList: true});\n",
       "}}\n",
       "\n",
       "                        })\n",
       "                };\n",
       "                });\n",
       "            </script>\n",
       "        </div>"
      ]
     },
     "metadata": {},
     "output_type": "display_data"
    }
   ],
   "source": [
    "# STEP 6\n",
    "\n",
    "fig = go.Figure(data=[go.Candlestick(x=df['date'],\n",
    "                open=df['open_price'], high=df['max_price'],\n",
    "                low=df['min_price'], close=df['close_price'])\n",
    "                     ])\n",
    "fig.update_layout(xaxis_rangeslider_visible=False)\n",
    "fig.show()"
   ]
  },
  {
   "cell_type": "code",
   "execution_count": null,
   "metadata": {},
   "outputs": [],
   "source": []
  }
 ],
 "metadata": {
  "kernelspec": {
   "display_name": "Python 3",
   "language": "python",
   "name": "python3"
  },
  "language_info": {
   "codemirror_mode": {
    "name": "ipython",
    "version": 3
   },
   "file_extension": ".py",
   "mimetype": "text/x-python",
   "name": "python",
   "nbconvert_exporter": "python",
   "pygments_lexer": "ipython3",
   "version": "3.7.6"
  }
 },
 "nbformat": 4,
 "nbformat_minor": 4
}
